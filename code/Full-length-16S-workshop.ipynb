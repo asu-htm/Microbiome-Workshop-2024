{
 "cells": [
  {
   "cell_type": "markdown",
   "id": "127bf36e-844c-4fbd-b4f1-5dab32bd1350",
   "metadata": {},
   "source": [
    "# Script for 2024 Microbiome Workshop"
   ]
  },
  {
   "cell_type": "code",
   "execution_count": null,
   "id": "7f3ee8d6-8559-4cbd-9af3-2986704abdd6",
   "metadata": {},
   "outputs": [],
   "source": [
    "# Make sure you copy the files to your home directory on sol\n",
    "# You can use scp or rsync \n",
    "# Here is an example: \n",
    "# rsync -P *.fastq slwrigh4@login.sol.rc.asu.edu:/home/[your_ASU_ID]\n",
    "\n",
    "# login into sol with the following: \n",
    "# ssh slwrigh4@login.sol.rc.asu.edu\n",
    "\n",
    "# You can set up an interactive  \n",
    "# interactive -c 4 --mem=48G"
   ]
  },
  {
   "cell_type": "markdown",
   "id": "082bdd2b-38b6-4df2-9c8a-5f61cb5b48da",
   "metadata": {},
   "source": [
    "## FastQC"
   ]
  },
  {
   "cell_type": "code",
   "execution_count": null,
   "id": "459bd884-1072-41af-adb8-8da18b2d5884",
   "metadata": {},
   "outputs": [],
   "source": [
    "# Once you are on Sol, you should be able to access the data \n",
    "# We will first assess the quality of the data using fastqc \n",
    "# Fastqc is installed on Sol\n",
    "# To access it, we can use the code below\n",
    "module load fastqc-0.12.1-gcc-11.2.0\n",
    "\n",
    "# To run fastqc on one sample: \n",
    "fastqc SRR23380883-subsample.fastq\n",
    "\n",
    "# To run fastqc on all fastq files in a directory \n",
    "fastqc *.fastqc"
   ]
  },
  {
   "cell_type": "markdown",
   "id": "c97c90d8-6630-4ea7-bca1-f2c4fa89e89d",
   "metadata": {},
   "source": [
    "## SeqKit"
   ]
  },
  {
   "cell_type": "code",
   "execution_count": null,
   "id": "d53aa236-5c06-4668-9d0c-1b23f8e8a7ee",
   "metadata": {},
   "outputs": [],
   "source": [
    "# Use seqkit to gain more insights about the quality of the data \n",
    "\n",
    "# You will need to activate mamba to install seqkit\n",
    "module load mamba/latest\n",
    "\n",
    "# Use the following to install seqkit onto Sol\n",
    "conda install bioconda::seqkit\n",
    "\n",
    "# Use seqkit stats \n",
    "seqkit stats -a *.fastq > seqkit-stats.txt # open in excel \n"
   ]
  },
  {
   "cell_type": "markdown",
   "id": "5ea28694-e510-4e8f-9451-0c5a99a197ce",
   "metadata": {},
   "source": [
    "## Create QIIME2 environment"
   ]
  },
  {
   "cell_type": "code",
   "execution_count": null,
   "id": "fb50619a-0af4-458f-be0c-27448f51d2ea",
   "metadata": {},
   "outputs": [],
   "source": [
    "# We will need to create a conda environment for the new QIIME2 environment\n",
    "\n",
    "wget https://data.qiime2.org/distro/amplicon/qiime2-amplicon-2024.5-py39-linux-conda.yml\n",
    "\n",
    "# You may need to start an interactive session for this to work\n",
    "# example: interactive -c 4 --mem=48G\n",
    "conda env create -n qiime2-amplicon-2024.5 --file https://data.qiime2.org/distro/amplicon/qiime2-amplicon-2024.5-py39-linux-conda.yml\n",
    "\n",
    "# Activate the environment\n",
    "source activate activate qiime2-amplicon-2024.5"
   ]
  },
  {
   "cell_type": "code",
   "execution_count": null,
   "id": "5499b270-5174-4e06-8184-1fe8c012f356",
   "metadata": {},
   "outputs": [],
   "source": [
    "# Let us import the data into QIIME2 \n",
    "# Because the following steps will need more RAM, we need to submit batch scripts \n",
    "# Copy the entire code below into a text file and save as Import_fastq_to_QIIME2.slurm"
   ]
  },
  {
   "cell_type": "markdown",
   "id": "b143ae5c-1837-4e88-a2de-273e89697b9f",
   "metadata": {},
   "source": [
    "## Import data into QIIME2"
   ]
  },
  {
   "cell_type": "code",
   "execution_count": null,
   "id": "61294167-0cab-4a96-aad2-e2fdd02d2569",
   "metadata": {},
   "outputs": [],
   "source": [
    "#!/bin/bash\n",
    "\n",
    "#SBATCH --job-name=one-import_fastq_files\n",
    "#SBATCH -o import_fastq.out\n",
    "#SBATCH --nodes=1\n",
    "#SBATCH -t 8:00:00\n",
    "#SBATCH --cpus-per-task=10\n",
    "#SBATCH --mem=40G\n",
    "#SBATCH -p general\n",
    "\n",
    "cd $SLURM_SUBMIT_DIR\n",
    "\n",
    "set -uex\n",
    "\n",
    "# Activate QIIME2 \n",
    "module load mamba/latest\n",
    "source activate qiime2-amplicon-2024.5\n",
    "\n",
    "# Import FASTQ FILES\n",
    "# You will need to make sure you include the manifest file for these samples\n",
    "qiime tools import \\\n",
    "  --type 'SampleData[SequencesWithQuality]' \\\n",
    "  --input-path manifest.txt \\\n",
    "  --input-format SingleEndFastqManifestPhred33V2 \\\n",
    "  --output-path pacbio-seqs.qza"
   ]
  },
  {
   "cell_type": "markdown",
   "id": "3d730bd1-7d70-4872-98f9-3daa6fe994cb",
   "metadata": {},
   "source": [
    "# Denoising the sequencing data "
   ]
  },
  {
   "cell_type": "code",
   "execution_count": null,
   "id": "d34032f6-eda8-4123-b4ce-1eea44d7823c",
   "metadata": {},
   "outputs": [],
   "source": [
    "#!/bin/bash\n",
    "#SBATCH --job-name=denoise\n",
    "#SBATCH -o denoise.out\n",
    "#SBATCH --nodes=1\n",
    "#SBATCH -t 8:00:00\n",
    "#SBATCH --cpus-per-task=10\n",
    "#SBATCH --mem=40G\n",
    "#SBATCH -p general\n",
    "\n",
    "cd $SLURM_SUBMIT_DIR\n",
    "\n",
    "set -uex\n",
    "\n",
    "# Record the start time\n",
    "start_time=$(date)\n",
    "\n",
    "module load mamba/latest\n",
    "\n",
    "source activate QIIME2-amplicon-2024.5\n",
    "\n",
    "start_time=$(date)\n",
    "\n",
    "qiime dada2 denoise-ccs \\\n",
    "--i-demultiplexed-seqs pacbio-seqs.qza \\\n",
    "--p-trim-left 0 \\\n",
    "--p-trunc-len 0 \\\n",
    "--p-front AGRGTTYGATYMTGGCTCAG \\\n",
    "--p-adapter RGYTACCTTGTTACGACTT \\\n",
    "--o-representative-sequences rep-seqs.qza   \\\n",
    "--o-table table.qza   \\\n",
    "--o-denoising-stats stats.qza\n",
    "\n",
    "end_time=$(date +%s)\n",
    "\n",
    "runtime=$((end_time - start_time))\n",
    "\n",
    "echo \"Job complete\"\n"
   ]
  },
  {
   "cell_type": "markdown",
   "id": "9be3ee66-4f81-4ea7-a017-a30a88f39fb9",
   "metadata": {},
   "source": [
    "## Download Greengenes2 database"
   ]
  },
  {
   "cell_type": "code",
   "execution_count": null,
   "id": "3d183ee9-2860-4f5d-850a-73faa08976bf",
   "metadata": {},
   "outputs": [],
   "source": [
    "# Download the greengenes2 database \n",
    "wget --no-check-certificate https://ftp.microbio.me/greengenes_release/2024.09/2024.09.backbone.full-length.fna.qza\n",
    "\n",
    "# For the taxonomy file\n",
    "wget --no-check-certificate https://ftp.microbio.me/greengenes_release/2024.09/2024.09.backbone.tax.qza"
   ]
  },
  {
   "cell_type": "markdown",
   "id": "e67ce45a-361c-4d3d-bb62-566011f4dbde",
   "metadata": {},
   "source": [
    "## Classify with Vsearch"
   ]
  },
  {
   "cell_type": "code",
   "execution_count": null,
   "id": "5f1f70a5-8f51-4793-9d5b-4ed32d23d876",
   "metadata": {},
   "outputs": [],
   "source": [
    "#!/bin/bash\n",
    "\n",
    "#SBATCH --job-name=classify\n",
    "#SBATCH -o classify.out\n",
    "#SBATCH --nodes=1\n",
    "#SBATCH -t 4:00:00\n",
    "#SBATCH --cpus-per-task=10\n",
    "#SBATCH --mem=40G\n",
    "#SBATCH -p general\n",
    "\n",
    "cd $SLURM_SUBMIT_DIR\n",
    "\n",
    "set -uex\n",
    "\n",
    "# Record the start time\n",
    "start_time=$(date)\n",
    "\n",
    "module load mamba/latest\n",
    "\n",
    "source activate QIIME2-amplicon-2024.5\n",
    "\n",
    "qiime feature-classifier classify-consensus-vsearch \\\n",
    "    --i-query rep-seqs.qza \\\n",
    "    --i-reference-reads 2024.09.backbone.full-length.fna.qza  \\\n",
    "    --i-reference-taxonomy 2024.09.backbone.tax.qza  \\\n",
    "    --p-maxaccepts 1 --p-strand \"plus\" \\\n",
    "    --p-threads 4 \\\n",
    "    --verbose \\\n",
    "    --output-dir taxa\n",
    "\n",
    "qiime tools export --input-path taxa/classification.qza --output-path taxa\n",
    "\n",
    "echo \"Job complete\"\n"
   ]
  },
  {
   "cell_type": "markdown",
   "id": "ed546564-55a0-49ea-abcf-d979a15164f3",
   "metadata": {},
   "source": [
    "### Analyses "
   ]
  },
  {
   "cell_type": "code",
   "execution_count": null,
   "id": "0be981b5-6217-4752-8106-dce83ad2ae8c",
   "metadata": {},
   "outputs": [],
   "source": [
    "# Create a barplot\n",
    "\n",
    "qiime taxa barplot \\\n",
    "--i-table table.qza \\\n",
    "--i-taxonomy taxa/taxonomy.qza \\\n",
    "--m-metadata-file metadata.txt \\\n",
    "--o-visualization taxa-bar-plots.qzv"
   ]
  },
  {
   "cell_type": "code",
   "execution_count": null,
   "id": "f3337f09-22fe-4369-9702-a94c3c0585fd",
   "metadata": {},
   "outputs": [],
   "source": [
    "# convert taxonomy.tsv file to taxonomy.qza file\n",
    "qiime tools import \\\n",
    "  --type 'FeatureData[Taxonomy]' \\\n",
    "  --input-format HeaderlessTSVTaxonomyFormat \\\n",
    "  --input-path taxonomy.tsv \\\n",
    "  --output-path taxonomy.qza\n",
    "\n",
    "# change the header from Feature ID to feature-id\n",
    "# run the following to check the file\n",
    "# qiime metadata tabulate --m-input-file taxonomy.qza --o-visualization taxonomy.qzv"
   ]
  },
  {
   "cell_type": "code",
   "execution_count": null,
   "id": "f5759e57-3ee5-4460-92b3-89bc712cab11",
   "metadata": {},
   "outputs": [],
   "source": [
    "#!/bin/bash\n",
    "\n",
    "#SBATCH --job-name=denoise\n",
    "#SBATCH -o denoise.out\n",
    "#SBATCH --nodes=1\n",
    "#SBATCH -t 4:00:00\n",
    "#SBATCH --cpus-per-task=10\n",
    "\n",
    "cd $SLURM_SUBMIT_DIR\n",
    "\n",
    "set -uex\n",
    "\n",
    "# collapse table to the genus level \n",
    "qiime taxa collapse --i-table table.qza \\\n",
    "--i-taxonomy taxa/taxonomy.qza \\\n",
    "--p-level 6 \\\n",
    "--o-collapsed-table genus-table.qza\n",
    "\n",
    "qiime taxa collapse --i-table table.qza \\\n",
    "--i-taxonomy taxa/taxonomy.qza \\\n",
    "--p-level 6 \\\n",
    "--o-collapsed-table genus-table-2.qza\n",
    "\n",
    "qiime taxa collapse --i-table table.qza \\\n",
    "--i-taxonomy taxa/taxonomy.qza \\\n",
    "--p-level 7 \\\n",
    "--o-collapsed-table species-table.qza\n",
    "\n",
    "qiime taxa collapse --i-table table.qza \\\n",
    "--i-taxonomy taxa/taxonomy.qza \\\n",
    "--p-level 2 \\\n",
    "--o-collapsed-table phylum-table.qza\n",
    "\n",
    "echo \"Job complete\""
   ]
  },
  {
   "cell_type": "code",
   "execution_count": null,
   "id": "c00cb5b3-c922-48d2-9950-3eb61dc3f793",
   "metadata": {},
   "outputs": [],
   "source": [
    "# Convert the table from a QZA format to a BIOM or txt format \n",
    "# Note that both of these files can be inputted into other programs \n",
    "\n",
    "qiime tools export --input-path genus-table.qza --output-path genus-analysis-2\n",
    "biom convert -i genus-analysis/feature-table.biom -o genus-analysis/feature-table.txt --to-tsv\n",
    "\n",
    "qiime tools export --input-path species-table.qza --output-path species-analysis\n",
    "biom convert -i species-analysis/feature-table.biom -o species-analysis/feature-table.txt --to-tsv"
   ]
  },
  {
   "cell_type": "code",
   "execution_count": null,
   "id": "d7bec310-f717-462f-9685-9c34f7097b58",
   "metadata": {},
   "outputs": [],
   "source": [
    "# What if you want to remove singletons and rare taxa that may be inflating diversity estimates and are present due to spurious mappings \n",
    "\n",
    "qiime feature-table filter-features \\\n",
    "  --i-table genus-table-2.qza \\\n",
    "  --p-min-samples 2 \\\n",
    "  --p-min-frequency 10 \\\n",
    "  --o-filtered-table filtered-genus-table.qza\n"
   ]
  },
  {
   "cell_type": "markdown",
   "id": "e01cd6e0-21dd-480d-b0fd-f3b7da7c97d9",
   "metadata": {},
   "source": [
    "## Compositional analyses"
   ]
  },
  {
   "cell_type": "code",
   "execution_count": null,
   "id": "243f1660-d772-414d-8c70-7fc4c0a6fef3",
   "metadata": {},
   "outputs": [],
   "source": [
    "# install gemelli\n",
    "# make sure your QIIME2 environment is active \n",
    "pip install gemelli"
   ]
  },
  {
   "cell_type": "code",
   "execution_count": null,
   "id": "6242c6f5-e164-4912-b7b9-e6a6a2f5643a",
   "metadata": {},
   "outputs": [],
   "source": [
    "#create a Aitchison distance matrix \n",
    "\n",
    "qiime gemelli rpca \\\n",
    "--i-table genus-table.qza \\\n",
    "--o-biplot genus-table-ordination.qza \\\n",
    "--o-distance-matrix genus-table-distance.qza\n",
    "\n",
    "qiime emperor biplot \\\n",
    "--i-biplot genus-table-ordination.qza \\\n",
    "--m-sample-metadata-file metadata.txt \\\n",
    "--o-visualization genus-biplot.qzv \\\n",
    "--p-number-of-features 1\n",
    "    \n",
    "# PERMANOVA results \n",
    "\n",
    "NAME=genus\n",
    "METADATA=metadata.txt\n",
    "declare -a StringArray=(\"GroupNumber\" \"Health\")\n",
    "for category in ${StringArray[@]}; do\n",
    "qiime diversity beta-group-significance \\\n",
    "  --i-distance-matrix genus-table-distance.qza \\\n",
    "  --m-metadata-file $METADATA \\\n",
    "  --m-metadata-column \"$category\" \\\n",
    "  --o-visualization ${NAME}-$category-significance.qzv \\\n",
    "  --p-pairwise\n",
    "done\n",
    "\n",
    "qiime diversity adonis \\\n",
    "--i-distance-matrix genus-table-distance.qza \\\n",
    "--m-metadata-file $METADATA \\\n",
    "--p-formula \"GroupNumber*Health\" \\\n",
    "--o-visualization adonis-${NAME}.qzv"
   ]
  },
  {
   "cell_type": "markdown",
   "id": "4bbac83d-32f2-47fc-9506-8317ab6df77a",
   "metadata": {},
   "source": [
    "## Alpha diversity "
   ]
  },
  {
   "cell_type": "code",
   "execution_count": null,
   "id": "6a953389-48e9-49f9-8dcf-939b960b7922",
   "metadata": {},
   "outputs": [],
   "source": [
    "METRIC=observed_features\n",
    "qiime diversity alpha \\\n",
    "--i-table genus-table.qza \\\n",
    "--p-metric $METRIC \\\n",
    "--o-alpha-diversity alpha-${NAME}-${METRIC}.qza\n",
    "\n",
    "qiime diversity alpha-group-significance\n",
    "--i-alpha-diversity alpha-${NAME}-${METRIC}.qza\n",
    "--m-metadata-file $METADATA\n",
    "--o-visualization alpha-${NAME}-${METRIC}.qzv"
   ]
  },
  {
   "cell_type": "markdown",
   "id": "619af125-be7a-42bb-86b8-6e0028038081",
   "metadata": {},
   "source": [
    "Additional commands"
   ]
  },
  {
   "cell_type": "code",
   "execution_count": null,
   "id": "38f85755-e013-4be7-a557-21f19cd5eda8",
   "metadata": {},
   "outputs": [],
   "source": [
    "# obc2dfatq command\n",
    "\n",
    "obc2fastq --input <run folder> \\\n",
    "--output <output folder name> \\\n",
    "--flowcellid <flow cell ID> \\\n",
    "--samplesheet <sampleSheet.csv file name> \\\n",
    "--designsheet <obc2fastq_params file name> \\\n",
    "--threadlanes <int> \\--threadsperlane <int> \\\n",
    "--controlsfile <control fasta file name> \\\n",
    "--barcodeallowedmismatches <int> \\"
   ]
  },
  {
   "cell_type": "code",
   "execution_count": null,
   "id": "6f16a44b-65a0-4750-bc60-560664887b4a",
   "metadata": {},
   "outputs": [],
   "source": [
    "# Subsample the fastq files to make them smaller \n",
    "# Good when you want to just test whether your program is working without having to do it on the entire dataset\n",
    "\n",
    "#!/bin/bash\n",
    "\n",
    "#SBATCH --job-name=denoise\n",
    "#SBATCH -o denoise.out\n",
    "#SBATCH --nodes=1\n",
    "#SBATCH -t 4:00:00\n",
    "#SBATCH --cpus-per-task=10\n",
    "\n",
    "cd $SLURM_SUBMIT_DIR\n",
    "\n",
    "set -uex\n",
    "\n",
    "# Record the start time\n",
    "start_time=$(date)\n",
    "\n",
    "module load mamba/latest\n",
    "\n",
    "source activate FASTQ_PROCESSING\n",
    "\n",
    "ls SRR2338099*.fastq | while read samples; do\n",
    "    base_name=$(basename \"$samples\" .fastq)  # Extract the base name without .fastq\n",
    "    seqkit sample -p 0.4 \"$samples\" -o \"${base_name}.4.fastq\"  # Use the base name for output\n",
    "done\n",
    "\n",
    "# -p is for proportion of sequences to subsample to; here we are collecting 40% of sequences\n",
    "\n",
    "echo \"Job Complete\"\n"
   ]
  },
  {
   "cell_type": "code",
   "execution_count": null,
   "id": "2b5e1e9d-dcd3-44c3-9de8-40a9088bde31",
   "metadata": {},
   "outputs": [],
   "source": [
    "# If you are having trouble with DEICODE, you may need to downgrade your numpy environment\n",
    "# Make sure your conda environment for QIIME2 is active conda \n",
    "mamba install numpy=1.19.5\n"
   ]
  }
 ],
 "metadata": {
  "kernelspec": {
   "display_name": "Python 3 (ipykernel)",
   "language": "python",
   "name": "python3"
  },
  "language_info": {
   "codemirror_mode": {
    "name": "ipython",
    "version": 3
   },
   "file_extension": ".py",
   "mimetype": "text/x-python",
   "name": "python",
   "nbconvert_exporter": "python",
   "pygments_lexer": "ipython3",
   "version": "3.10.12"
  }
 },
 "nbformat": 4,
 "nbformat_minor": 5
}
